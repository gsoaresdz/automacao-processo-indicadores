{
 "cells": [
  {
   "attachments": {},
   "cell_type": "markdown",
   "metadata": {},
   "source": [
    "##### Bibliotecas"
   ]
  },
  {
   "cell_type": "code",
   "execution_count": null,
   "metadata": {},
   "outputs": [],
   "source": [
    "import pandas as pd\n",
    "import pathlib\n",
    "import smtplib\n",
    "from email.mime.multipart import MIMEMultipart\n",
    "from email.mime.base import MIMEBase\n",
    "from email.mime.text import MIMEText\n",
    "from email import encoders\n",
    "import os"
   ]
  },
  {
   "attachments": {},
   "cell_type": "markdown",
   "metadata": {},
   "source": [
    "##### Base de Dados"
   ]
  },
  {
   "cell_type": "code",
   "execution_count": null,
   "metadata": {},
   "outputs": [],
   "source": [
    "emails = pd.read_excel(r'Bases de Dados\\Emails.xlsx')\n",
    "lojas = pd.read_csv(r'Bases de Dados\\Lojas.csv', sep=';', encoding='latin1')\n",
    "vendas = pd.read_excel(r'Bases de Dados\\Vendas.xlsx')\n",
    "\n",
    "display(emails)\n",
    "display(lojas)\n",
    "display(vendas)"
   ]
  },
  {
   "attachments": {},
   "cell_type": "markdown",
   "metadata": {},
   "source": [
    "##### Criar uma Tabela para cada Loja e Definir o dia do Indicador"
   ]
  },
  {
   "cell_type": "code",
   "execution_count": null,
   "metadata": {},
   "outputs": [],
   "source": [
    "vendas = vendas.merge(lojas, on='ID Loja')\n",
    "display(vendas)"
   ]
  },
  {
   "cell_type": "code",
   "execution_count": null,
   "metadata": {},
   "outputs": [],
   "source": [
    "dicionario_lojas = {}\n",
    "\n",
    "for loja in lojas['Loja']:\n",
    "  dicionario_lojas[loja] = vendas.loc[vendas['Loja']==loja, :]\n",
    "  \n",
    "display(dicionario_lojas['Iguatemi Esplanada'])\n",
    "display(dicionario_lojas['Shopping Vila Velha'])"
   ]
  },
  {
   "attachments": {},
   "cell_type": "markdown",
   "metadata": {},
   "source": [
    "##### Definindo o Dia do Indicador"
   ]
  },
  {
   "cell_type": "code",
   "execution_count": null,
   "metadata": {},
   "outputs": [],
   "source": [
    "dia_indicador = vendas['Data'].max()\n",
    "print(dia_indicador)\n",
    "print(f'{dia_indicador.day}/{dia_indicador.month}')"
   ]
  },
  {
   "attachments": {},
   "cell_type": "markdown",
   "metadata": {},
   "source": [
    "##### Salvar a planilha na pasta de Backup"
   ]
  },
  {
   "cell_type": "code",
   "execution_count": null,
   "metadata": {},
   "outputs": [],
   "source": [
    "caminho_backup = pathlib.Path(r'Backup Arquivos Lojas')\n",
    "\n",
    "arquivos_pasta_backup = caminho_backup.iterdir()\n",
    "lista_nomes_backup = [arquivo.name for arquivo in arquivos_pasta_backup]\n",
    "\n",
    "for loja in dicionario_lojas:\n",
    "    if loja not in lista_nomes_backup:\n",
    "        nova_pasta = caminho_backup / loja\n",
    "        nova_pasta.mkdir()\n",
    "\n",
    "    nome_arquivo = '{}_{}_{}.xlsx'.format(dia_indicador.month, dia_indicador.day, loja)\n",
    "    local_arquivo = caminho_backup / loja / nome_arquivo\n",
    "\n",
    "    dicionario_lojas[loja].to_excel(local_arquivo)"
   ]
  },
  {
   "attachments": {},
   "cell_type": "markdown",
   "metadata": {},
   "source": [
    "##### Calcular o indicador para 1 loja"
   ]
  },
  {
   "cell_type": "code",
   "execution_count": null,
   "metadata": {
    "scrolled": true
   },
   "outputs": [],
   "source": [
    "loja = 'Norte Shopping'\n",
    "vendas_lojas = dicionario_lojas[loja]\n",
    "vendas_lojas_dia = vendas_lojas.loc[vendas_lojas['Data']==dia_indicador, :]"
   ]
  },
  {
   "attachments": {},
   "cell_type": "markdown",
   "metadata": {},
   "source": [
    "- Faturamento"
   ]
  },
  {
   "cell_type": "code",
   "execution_count": null,
   "metadata": {},
   "outputs": [],
   "source": [
    "faturamento_ano = vendas_lojas['Valor Final'].sum()\n",
    "print(faturamento_ano)\n",
    "\n",
    "faturamento_dia = vendas_lojas_dia['Valor Final'].sum()\n",
    "print(faturamento_dia)"
   ]
  },
  {
   "attachments": {},
   "cell_type": "markdown",
   "metadata": {},
   "source": [
    "- Diversidade de Produtos"
   ]
  },
  {
   "cell_type": "code",
   "execution_count": null,
   "metadata": {},
   "outputs": [],
   "source": [
    "qtde_ano = len(vendas_lojas['Produto'].unique())\n",
    "print(qtde_ano)\n",
    "\n",
    "qtde_dia = len(vendas_lojas_dia['Produto'].unique())\n",
    "print(qtde_dia)"
   ]
  },
  {
   "attachments": {},
   "cell_type": "markdown",
   "metadata": {},
   "source": [
    "- Ticket Médio"
   ]
  },
  {
   "cell_type": "code",
   "execution_count": null,
   "metadata": {},
   "outputs": [],
   "source": [
    "valor_venda = vendas_lojas.groupby('Código Venda').sum()\n",
    "ticket_medio_ano = valor_venda['Valor Final'].mean()\n",
    "print(ticket_medio_ano)\n",
    "\n",
    "valor_venda_dia = vendas_lojas_dia.groupby('Código Venda').sum()\n",
    "ticket_medio_dia = valor_venda_dia['Valor Final'].mean()\n",
    "print(ticket_medio_dia)"
   ]
  },
  {
   "attachments": {},
   "cell_type": "markdown",
   "metadata": {},
   "source": [
    "- Meta"
   ]
  },
  {
   "cell_type": "code",
   "execution_count": null,
   "metadata": {},
   "outputs": [],
   "source": [
    "meta_faturamento_dia = 1000\n",
    "meta_faturamento_ano = 1650000\n",
    "meta_qtdeprodutos_dia = 4\n",
    "meta_qtdeprodutos_ano = 120\n",
    "meta_ticketmedio_dia = 500\n",
    "meta_ticketmedio_ano = 500"
   ]
  },
  {
   "attachments": {},
   "cell_type": "markdown",
   "metadata": {},
   "source": [
    "##### Enviar por e-mail para o gerente"
   ]
  },
  {
   "cell_type": "code",
   "execution_count": null,
   "metadata": {},
   "outputs": [],
   "source": [
    "for loja in dicionario_lojas:\n",
    "\n",
    "    vendas_loja = dicionario_lojas[loja]\n",
    "    vendas_loja_dia = vendas_loja.loc[vendas_loja['Data']==dia_indicador, :]\n",
    "\n",
    "    #faturamento\n",
    "    faturamento_ano = vendas_loja['Valor Final'].sum()\n",
    "    #print(faturamento_ano)\n",
    "    faturamento_dia = vendas_loja_dia['Valor Final'].sum()\n",
    "    #print(faturamento_dia)\n",
    "\n",
    "    #diversidade de produtos\n",
    "    qtde_produtos_ano = len(vendas_loja['Produto'].unique())\n",
    "    #print(qtde_produtos_ano)\n",
    "    qtde_produtos_dia = len(vendas_loja_dia['Produto'].unique())\n",
    "    #print(qtde_produtos_dia)\n",
    "\n",
    "\n",
    "    #ticket medio\n",
    "    valor_venda = vendas_loja.groupby('Código Venda').sum()\n",
    "    ticket_medio_ano = valor_venda['Valor Final'].mean()\n",
    "    #print(ticket_medio_ano)\n",
    "    #ticket_medio_dia\n",
    "    valor_venda_dia = vendas_loja_dia.groupby('Código Venda').sum()\n",
    "    ticket_medio_dia = valor_venda_dia['Valor Final'].mean()\n",
    "    #print(ticket_medio_dia)\n",
    "\n",
    "    # Configurações do email\n",
    "\n",
    "    nome = emails.loc[emails['Loja']==loja, 'Gerente'].values[0]\n",
    "    fromaddr = \"gsoaresdesouzaaws@gmail.com\"\n",
    "    toaddr = emails.loc[emails['Loja']==loja, 'E-mail'].values[0]\n",
    "    subject = f'OnePage Dia {dia_indicador.day}/{dia_indicador.month} - Loja {loja}'\n",
    "\n",
    "    if faturamento_dia >= meta_faturamento_dia:\n",
    "        cor_fat_dia = 'green'\n",
    "    else:\n",
    "        cor_fat_dia = 'red'\n",
    "    if faturamento_ano >= meta_faturamento_ano:\n",
    "        cor_fat_ano = 'green'\n",
    "    else:\n",
    "        cor_fat_ano = 'red'\n",
    "    if qtde_produtos_dia >= meta_qtdeprodutos_dia:\n",
    "        cor_qtde_dia = 'green'\n",
    "    else:\n",
    "        cor_qtde_dia = 'red'\n",
    "    if qtde_produtos_ano >= meta_qtdeprodutos_ano:\n",
    "        cor_qtde_ano = 'green'\n",
    "    else:\n",
    "        cor_qtde_ano = 'red'\n",
    "    if ticket_medio_dia >= meta_ticketmedio_dia:\n",
    "        cor_ticket_dia = 'green'\n",
    "    else:\n",
    "        cor_ticket_dia = 'red'\n",
    "    if ticket_medio_ano >= meta_ticketmedio_ano:\n",
    "        cor_ticket_ano = 'green'\n",
    "    else:\n",
    "        cor_ticket_ano = 'red'\n",
    "\n",
    "    body = f'''\n",
    "      <p>Bom dia, {nome}</p>\n",
    "\n",
    "      <p>O resultado de ontem <strong>({dia_indicador.day}/{dia_indicador.month})</strong>, da <strong>Loja {loja}</strong> foi:</p>\n",
    "\n",
    "      <table>\n",
    "        <tr>\n",
    "          <th>Indicador</th>\n",
    "          <th>Valor Dia</th>\n",
    "          <th>Meta Dia</th>\n",
    "          <th>Cenário Dia</th>\n",
    "        </tr>\n",
    "        <tr>\n",
    "          <td>Faturamento</td>\n",
    "          <td style=\"text-align: center\">R$ {faturamento_dia:.2f}</td>\n",
    "          <td style=\"text-align: center\">R$ {meta_faturamento_dia:.2f}</td>\n",
    "          <td style=\"text-align: center\"><font color=\"{cor_fat_dia}\">◙</font></td>\n",
    "        </tr>\n",
    "        <tr>\n",
    "          <td>Diversidade de Produtos</td>\n",
    "          <td style=\"text-align: center\">{qtde_produtos_dia}</td>\n",
    "          <td style=\"text-align: center\">{meta_qtdeprodutos_dia}</td>\n",
    "          <td style=\"text-align: center\"><font color=\"{cor_qtde_dia}\">◙</font></td>\n",
    "        </tr>\n",
    "        <tr>\n",
    "          <td>Ticket Médio</td>\n",
    "          <td style=\"text-align: center\">R$ {ticket_medio_dia:.2f}</td>\n",
    "          <td style=\"text-align: center\">R$ {meta_ticketmedio_dia:.2f}</td>\n",
    "          <td style=\"text-align: center\"><font color=\"{cor_ticket_dia}\">◙</font></td>\n",
    "        </tr>\n",
    "      </table>\n",
    "        <br>\n",
    "      <table>\n",
    "        <tr>\n",
    "          <th>Indicador</th>\n",
    "          <th>Valor Ano</th>\n",
    "          <th>Meta Ano</th>\n",
    "          <th>Cenário Ano</th>\n",
    "        </tr>\n",
    "        <tr>\n",
    "          <td>Faturamento</td>\n",
    "          <td style=\"text-align: center\">R$ {faturamento_ano:.2f}</td>\n",
    "          <td style=\"text-align: center\">R$ {meta_faturamento_ano:.2f}</td>\n",
    "          <td style=\"text-align: center\"><font color=\"{cor_fat_ano}\">◙</font></td>\n",
    "        </tr>\n",
    "        <tr>\n",
    "          <td>Diversidade de Produtos</td>\n",
    "          <td style=\"text-align: center\">{qtde_produtos_ano}</td>\n",
    "          <td style=\"text-align: center\">{meta_qtdeprodutos_ano}</td>\n",
    "          <td style=\"text-align: center\"><font color=\"{cor_qtde_ano}\">◙</font></td>\n",
    "        </tr>\n",
    "        <tr>\n",
    "          <td>Ticket Médio</td>\n",
    "          <td style=\"text-align: center\">R$ {ticket_medio_ano:.2f}</td>\n",
    "          <td style=\"text-align: center\">R$ {meta_ticketmedio_ano:.2f}</td>\n",
    "          <td style=\"text-align: center\"><font color=\"{cor_ticket_ano}\">◙</font></td>\n",
    "        </tr>\n",
    "      </table>\n",
    "\n",
    "      <p>Seque em anexo a planilha com todos os dados para mais detalhes.</p>\n",
    "\n",
    "      <p>Qualquer dúvida estou à disposição</p>\n",
    "      <p>Att.; Gabriel</p>\n",
    "    '''\n",
    "\n",
    "    # Configurações do anexo\n",
    "    filename = f'{dia_indicador.month}_{dia_indicador.day}_{loja}.xlsx'\n",
    "    filepath = os.path.join(pathlib.Path.cwd(), caminho_backup, loja, filename)\n",
    "\n",
    "    # Configuração da mensagem\n",
    "    msg = MIMEMultipart()\n",
    "    msg['From'] = fromaddr\n",
    "    msg['To'] = toaddr\n",
    "    msg['Subject'] = subject\n",
    "    msg.attach(MIMEText(body, 'html'))\n",
    "\n",
    "    # Configuração do anexo\n",
    "    attachment = open(filepath, \"rb\")\n",
    "    part = MIMEBase('application', 'octet-stream')\n",
    "    part.set_payload(attachment.read())\n",
    "    encoders.encode_base64(part)\n",
    "    part.add_header('Content-Disposition', \"attachment; filename= %s\" % filename)\n",
    "\n",
    "    msg.attach(part)\n",
    "\n",
    "    # Enviando o email\n",
    "    server = smtplib.SMTP('smtp.gmail.com', 587)\n",
    "    server.starttls()\n",
    "    server.login(fromaddr, \"llsmaiefjhecvqxq\")\n",
    "    text = msg.as_string()\n",
    "    server.sendmail(fromaddr, toaddr, text)\n",
    "    server.quit()\n",
    "\n",
    "    print('E-mail da Loja {} enviado'.format(loja))"
   ]
  },
  {
   "attachments": {},
   "cell_type": "markdown",
   "metadata": {},
   "source": [
    "### Passo 6 - Automatizar todas as lojas"
   ]
  },
  {
   "cell_type": "code",
   "execution_count": null,
   "metadata": {},
   "outputs": [],
   "source": []
  },
  {
   "attachments": {},
   "cell_type": "markdown",
   "metadata": {},
   "source": [
    "### Passo 7 - Criar ranking para diretoria"
   ]
  },
  {
   "cell_type": "code",
   "execution_count": null,
   "metadata": {},
   "outputs": [],
   "source": []
  },
  {
   "attachments": {},
   "cell_type": "markdown",
   "metadata": {},
   "source": [
    "### Passo 8 - Enviar e-mail para diretoria"
   ]
  },
  {
   "cell_type": "code",
   "execution_count": null,
   "metadata": {},
   "outputs": [],
   "source": []
  }
 ],
 "metadata": {
  "kernelspec": {
   "display_name": "Python 3",
   "language": "python",
   "name": "python3"
  },
  "language_info": {
   "codemirror_mode": {
    "name": "ipython",
    "version": 3
   },
   "file_extension": ".py",
   "mimetype": "text/x-python",
   "name": "python",
   "nbconvert_exporter": "python",
   "pygments_lexer": "ipython3",
   "version": "3.9.7"
  }
 },
 "nbformat": 4,
 "nbformat_minor": 4
}
